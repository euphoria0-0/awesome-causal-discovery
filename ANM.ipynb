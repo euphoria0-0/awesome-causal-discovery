{
 "cells": [
  {
   "cell_type": "code",
   "execution_count": 1,
   "metadata": {},
   "outputs": [],
   "source": [
    "import numpy as np\n",
    "import logging\n",
    "from scipy import stats\n",
    "from sklearn.gaussian_process import GaussianProcessRegressor"
   ]
  },
  {
   "cell_type": "code",
   "execution_count": 2,
   "metadata": {},
   "outputs": [],
   "source": [
    "def _rbf_dot(x):\n",
    "\n",
    "    n = x.shape[0]\n",
    "\n",
    "    G = np.sum(x * x, 1).reshape(n, 1)\n",
    "    Q = np.tile(G, (1, n))\n",
    "    H = Q + G.T - 2 * np.dot(x, x.T)\n",
    "\n",
    "    dists = Q + G.T - 2 * np.dot(x, x.T)\n",
    "    dists = dists - np.tril(dists)\n",
    "    dists = dists.reshape(n ** 2, 1)\n",
    "    deg = np.sqrt(0.5 * np.median(dists[dists > 0]))\n",
    "\n",
    "    H = np.exp(-H / 2 / (deg ** 2))\n",
    "\n",
    "    return H\n",
    "\n",
    "def hsic_test(x, y, alpha=0.05, normalize=True):\n",
    "    \"\"\"Hilbert-Schmidt independence criterion\n",
    "    https://github.com/huawei-noah/trustworthyAI/blob/master/gcastle/castle/common/independence_tests.py#L550\n",
    "    \"\"\"\n",
    "    if normalize:\n",
    "        x = (x - np.mean(x)) / np.std(x)\n",
    "        y = (y - np.mean(y)) / np.std(y)\n",
    "\n",
    "    n = x.shape[0]\n",
    "\n",
    "    H = np.identity(n) - np.ones((n, n), dtype=float) / n\n",
    "    K = _rbf_dot(x)\n",
    "    L = _rbf_dot(y)\n",
    "    Kc = np.dot(np.dot(H, K), H)\n",
    "    Lc = np.dot(np.dot(H, L), H)\n",
    "\n",
    "    testStat = np.sum(Kc.T * Lc) / n\n",
    "\n",
    "    varHSIC = (Kc * Lc / 6) ** 2\n",
    "    varHSIC = (np.sum(varHSIC) - np.trace(varHSIC)) / n / (n - 1)\n",
    "    varHSIC = varHSIC * 72 * (n - 4) * (n - 5) / n / (n - 1) / (n - 2) / (n - 3)\n",
    "\n",
    "    K = K - np.diag(np.diag(K))\n",
    "    L = L - np.diag(np.diag(L))\n",
    "\n",
    "    bone = np.ones((n, 1), dtype=float)\n",
    "    muX = np.dot(np.dot(bone.T, K), bone) / n / (n - 1)\n",
    "    muY = np.dot(np.dot(bone.T, L), bone) / n / (n - 1)\n",
    "    mHSIC = (1 + muX * muY - muX - muY) / n\n",
    "    al = mHSIC ** 2 / varHSIC\n",
    "    bet = varHSIC * n / mHSIC\n",
    "\n",
    "    thresh = stats.gamma.ppf(1 - alpha, al, scale=bet)[0][0]\n",
    "\n",
    "    if testStat < thresh:\n",
    "        return 1\n",
    "    else:\n",
    "        return 0"
   ]
  },
  {
   "cell_type": "code",
   "execution_count": 3,
   "metadata": {},
   "outputs": [],
   "source": [
    " # Nonlinear ANM Algorithm\n",
    "class NonlinearANM(object):\n",
    "\n",
    "    def __init__(self, model=None, gp_params={}, test_method=hsic_test):\n",
    "        self.logger = logging.getLogger(__name__)\n",
    "        self.model = GaussianProcessRegressor(**gp_params) if model is None else model\n",
    "        self.test_method = hsic_test\n",
    "\n",
    "    def bivariate_learn(self, X, Y):\n",
    "        accepted = {}\n",
    "        causal_graph = np.zeros((2, 2))\n",
    "        \n",
    "        ## Independence Test\n",
    "        ind_test_res = self.test_method(X, Y)\n",
    "\n",
    "        if ind_test_res:\n",
    "            self.logger.info('No Causality between X and Y because they are independent')\n",
    "            return causal_graph\n",
    "\n",
    "        ## Consistency Test\n",
    "        for idx in range(2):\n",
    "            # Cause (C) -> Effect (E)\n",
    "            candidate = 'X->Y' if idx == 0 else 'Y->X'\n",
    "            C, E = (X, Y) if idx == 0 else (Y, X)\n",
    "            \n",
    "            # Fit Nonlinear Model\n",
    "            model.fit(C, E)\n",
    "            \n",
    "            # Residuals\n",
    "            pred = model.predict(C)\n",
    "            residual = E - pred\n",
    "\n",
    "            # Goodness of Fit score\n",
    "            score = model.score(C, E)\n",
    "\n",
    "            # Residual Independence Test\n",
    "            ind_test_res = self.test_method(C, E)\n",
    "\n",
    "            if ind_test_res:\n",
    "                # accept this model if independent\n",
    "                causal_graph[idx, (idx+1)%2] = score\n",
    "                self.logger.info('Accept', 'X->Y' if idx == 0 else 'Y->X')\n",
    "\n",
    "        # Result\n",
    "        if sum(causal_graph) == 0:\n",
    "            self.logger.info('Cannot idenfity the valid cause and effect')\n",
    "            return causal_graph\n",
    "\n",
    "        elif sum(causal_graph) == 2:\n",
    "            # compute higher score\n",
    "            causal_graph[np.argmax(causal_graph)] = 1\n",
    "            causal_graph[0<causal_graph<1] = 0\n",
    "            self.logger.info('Accept an edge with the higher score')\n",
    "\n",
    "        else:\n",
    "            causal_graph[causal_graph > 0] = 1\n",
    "        \n",
    "        return causal_graph"
   ]
  },
  {
   "cell_type": "code",
   "execution_count": 4,
   "metadata": {},
   "outputs": [
    {
     "data": {
      "text/plain": [
       "((100, 1), (100, 1))"
      ]
     },
     "execution_count": 4,
     "metadata": {},
     "output_type": "execute_result"
    }
   ],
   "source": [
    "# Generate pseudo dataset\n",
    "num_data = 100\n",
    "num_features = 1\n",
    "\n",
    "np.random.seed(0)\n",
    "X = np.random.rand(num_data, num_features)\n",
    "y = np.random.rand(num_data, 1)\n",
    "X.shape, y.shape"
   ]
  },
  {
   "cell_type": "code",
   "execution_count": 5,
   "metadata": {},
   "outputs": [],
   "source": [
    "model = NonlinearANM()"
   ]
  },
  {
   "cell_type": "code",
   "execution_count": 6,
   "metadata": {},
   "outputs": [
    {
     "data": {
      "text/plain": [
       "array([[0., 0.],\n",
       "       [0., 0.]])"
      ]
     },
     "execution_count": 6,
     "metadata": {},
     "output_type": "execute_result"
    }
   ],
   "source": [
    "causal_graph = model.bivariate_learn(X, y)\n",
    "causal_graph"
   ]
  }
 ],
 "metadata": {
  "kernelspec": {
   "display_name": "Python 3",
   "language": "python",
   "name": "python3"
  },
  "language_info": {
   "codemirror_mode": {
    "name": "ipython",
    "version": 3
   },
   "file_extension": ".py",
   "mimetype": "text/x-python",
   "name": "python",
   "nbconvert_exporter": "python",
   "pygments_lexer": "ipython3",
   "version": "3.10.12"
  }
 },
 "nbformat": 4,
 "nbformat_minor": 2
}
